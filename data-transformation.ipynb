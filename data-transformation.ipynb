{
 "cells": [
  {
   "cell_type": "code",
   "execution_count": 25,
   "metadata": {},
   "outputs": [],
   "source": [
    "# import necessary packages\n",
    "\n",
    "import pandas as pd\n",
    "import numpy as np"
   ]
  },
  {
   "cell_type": "code",
   "execution_count": 26,
   "metadata": {},
   "outputs": [],
   "source": [
    "# read google play store dataset\n",
    "\n",
    "df = pd.read_csv('dataset/googleplaystore.csv')"
   ]
  },
  {
   "cell_type": "code",
   "execution_count": 27,
   "metadata": {},
   "outputs": [
    {
     "data": {
      "text/plain": [
       "Index(['App', 'Category', 'Rating', 'Reviews', 'Size', 'Installs', 'Type',\n",
       "       'Price', 'Content Rating', 'Genres', 'Last Updated', 'Current Ver',\n",
       "       'Android Ver'],\n",
       "      dtype='object')"
      ]
     },
     "execution_count": 27,
     "metadata": {},
     "output_type": "execute_result"
    }
   ],
   "source": [
    "df.columns"
   ]
  },
  {
   "cell_type": "code",
   "execution_count": 28,
   "metadata": {},
   "outputs": [
    {
     "name": "stdout",
     "output_type": "stream",
     "text": [
      "<class 'pandas.core.frame.DataFrame'>\n",
      "RangeIndex: 10841 entries, 0 to 10840\n",
      "Data columns (total 13 columns):\n",
      " #   Column          Non-Null Count  Dtype  \n",
      "---  ------          --------------  -----  \n",
      " 0   App             10841 non-null  object \n",
      " 1   Category        10841 non-null  object \n",
      " 2   Rating          9367 non-null   float64\n",
      " 3   Reviews         10841 non-null  object \n",
      " 4   Size            10841 non-null  object \n",
      " 5   Installs        10841 non-null  object \n",
      " 6   Type            10840 non-null  object \n",
      " 7   Price           10841 non-null  object \n",
      " 8   Content Rating  10840 non-null  object \n",
      " 9   Genres          10841 non-null  object \n",
      " 10  Last Updated    10841 non-null  object \n",
      " 11  Current Ver     10833 non-null  object \n",
      " 12  Android Ver     10838 non-null  object \n",
      "dtypes: float64(1), object(12)\n",
      "memory usage: 1.1+ MB\n"
     ]
    }
   ],
   "source": [
    "df.info()"
   ]
  },
  {
   "cell_type": "markdown",
   "metadata": {},
   "source": [
    "Columns;\n",
    "\n",
    "* **App**: Includes application name\n",
    "* **Category**: Includes category of the application\n",
    "* **Rating**: Includes the rate of application between 0 and 5\n",
    "* **Review**: Includes the number of reviews that the app has\n",
    "* **Size**: Size of the application (KB)\n",
    "* **Installs**: Includes the number of user downloads/installs for the app\n",
    "* **Type**: Includes app is free or paid \n",
    "* **Price**: Includes the price of the apps\n",
    "* **Content Rating**: Includes age group the app is targeted at (Children / Mature 21+ / Adults, etc.)\n",
    "* **Genres**: Includes the multiple genres the app belongs to (apart from its main category), these are separated by ';'\n",
    "* **Last Updated**: Includes date of the app is updated lastly\n",
    "* **Current Ver**: Includes current version of the app\n",
    "* **Android Ver**: Includes android version of the app"
   ]
  },
  {
   "cell_type": "code",
   "execution_count": 29,
   "metadata": {},
   "outputs": [
    {
     "data": {
      "text/html": [
       "<div>\n",
       "<style scoped>\n",
       "    .dataframe tbody tr th:only-of-type {\n",
       "        vertical-align: middle;\n",
       "    }\n",
       "\n",
       "    .dataframe tbody tr th {\n",
       "        vertical-align: top;\n",
       "    }\n",
       "\n",
       "    .dataframe thead th {\n",
       "        text-align: right;\n",
       "    }\n",
       "</style>\n",
       "<table border=\"1\" class=\"dataframe\">\n",
       "  <thead>\n",
       "    <tr style=\"text-align: right;\">\n",
       "      <th></th>\n",
       "      <th>Rating</th>\n",
       "    </tr>\n",
       "  </thead>\n",
       "  <tbody>\n",
       "    <tr>\n",
       "      <th>count</th>\n",
       "      <td>9367.000000</td>\n",
       "    </tr>\n",
       "    <tr>\n",
       "      <th>mean</th>\n",
       "      <td>4.193338</td>\n",
       "    </tr>\n",
       "    <tr>\n",
       "      <th>std</th>\n",
       "      <td>0.537431</td>\n",
       "    </tr>\n",
       "    <tr>\n",
       "      <th>min</th>\n",
       "      <td>1.000000</td>\n",
       "    </tr>\n",
       "    <tr>\n",
       "      <th>25%</th>\n",
       "      <td>4.000000</td>\n",
       "    </tr>\n",
       "    <tr>\n",
       "      <th>50%</th>\n",
       "      <td>4.300000</td>\n",
       "    </tr>\n",
       "    <tr>\n",
       "      <th>75%</th>\n",
       "      <td>4.500000</td>\n",
       "    </tr>\n",
       "    <tr>\n",
       "      <th>max</th>\n",
       "      <td>19.000000</td>\n",
       "    </tr>\n",
       "  </tbody>\n",
       "</table>\n",
       "</div>"
      ],
      "text/plain": [
       "            Rating\n",
       "count  9367.000000\n",
       "mean      4.193338\n",
       "std       0.537431\n",
       "min       1.000000\n",
       "25%       4.000000\n",
       "50%       4.300000\n",
       "75%       4.500000\n",
       "max      19.000000"
      ]
     },
     "execution_count": 29,
     "metadata": {},
     "output_type": "execute_result"
    }
   ],
   "source": [
    "df.describe()"
   ]
  },
  {
   "cell_type": "code",
   "execution_count": 30,
   "metadata": {},
   "outputs": [
    {
     "data": {
      "text/html": [
       "<div>\n",
       "<style scoped>\n",
       "    .dataframe tbody tr th:only-of-type {\n",
       "        vertical-align: middle;\n",
       "    }\n",
       "\n",
       "    .dataframe tbody tr th {\n",
       "        vertical-align: top;\n",
       "    }\n",
       "\n",
       "    .dataframe thead th {\n",
       "        text-align: right;\n",
       "    }\n",
       "</style>\n",
       "<table border=\"1\" class=\"dataframe\">\n",
       "  <thead>\n",
       "    <tr style=\"text-align: right;\">\n",
       "      <th></th>\n",
       "      <th>App</th>\n",
       "      <th>Category</th>\n",
       "      <th>Reviews</th>\n",
       "      <th>Size</th>\n",
       "      <th>Installs</th>\n",
       "      <th>Type</th>\n",
       "      <th>Price</th>\n",
       "      <th>Content Rating</th>\n",
       "      <th>Genres</th>\n",
       "      <th>Last Updated</th>\n",
       "      <th>Current Ver</th>\n",
       "      <th>Android Ver</th>\n",
       "    </tr>\n",
       "  </thead>\n",
       "  <tbody>\n",
       "    <tr>\n",
       "      <th>count</th>\n",
       "      <td>10841</td>\n",
       "      <td>10841</td>\n",
       "      <td>10841</td>\n",
       "      <td>10841</td>\n",
       "      <td>10841</td>\n",
       "      <td>10840</td>\n",
       "      <td>10841</td>\n",
       "      <td>10840</td>\n",
       "      <td>10841</td>\n",
       "      <td>10841</td>\n",
       "      <td>10833</td>\n",
       "      <td>10838</td>\n",
       "    </tr>\n",
       "    <tr>\n",
       "      <th>unique</th>\n",
       "      <td>9660</td>\n",
       "      <td>34</td>\n",
       "      <td>6002</td>\n",
       "      <td>462</td>\n",
       "      <td>22</td>\n",
       "      <td>3</td>\n",
       "      <td>93</td>\n",
       "      <td>6</td>\n",
       "      <td>120</td>\n",
       "      <td>1378</td>\n",
       "      <td>2832</td>\n",
       "      <td>33</td>\n",
       "    </tr>\n",
       "    <tr>\n",
       "      <th>top</th>\n",
       "      <td>ROBLOX</td>\n",
       "      <td>FAMILY</td>\n",
       "      <td>0</td>\n",
       "      <td>Varies with device</td>\n",
       "      <td>1,000,000+</td>\n",
       "      <td>Free</td>\n",
       "      <td>0</td>\n",
       "      <td>Everyone</td>\n",
       "      <td>Tools</td>\n",
       "      <td>August 3, 2018</td>\n",
       "      <td>Varies with device</td>\n",
       "      <td>4.1 and up</td>\n",
       "    </tr>\n",
       "    <tr>\n",
       "      <th>freq</th>\n",
       "      <td>9</td>\n",
       "      <td>1972</td>\n",
       "      <td>596</td>\n",
       "      <td>1695</td>\n",
       "      <td>1579</td>\n",
       "      <td>10039</td>\n",
       "      <td>10040</td>\n",
       "      <td>8714</td>\n",
       "      <td>842</td>\n",
       "      <td>326</td>\n",
       "      <td>1459</td>\n",
       "      <td>2451</td>\n",
       "    </tr>\n",
       "  </tbody>\n",
       "</table>\n",
       "</div>"
      ],
      "text/plain": [
       "           App Category Reviews                Size    Installs   Type  Price  \\\n",
       "count    10841    10841   10841               10841       10841  10840  10841   \n",
       "unique    9660       34    6002                 462          22      3     93   \n",
       "top     ROBLOX   FAMILY       0  Varies with device  1,000,000+   Free      0   \n",
       "freq         9     1972     596                1695        1579  10039  10040   \n",
       "\n",
       "       Content Rating Genres    Last Updated         Current Ver Android Ver  \n",
       "count           10840  10841           10841               10833       10838  \n",
       "unique              6    120            1378                2832          33  \n",
       "top          Everyone  Tools  August 3, 2018  Varies with device  4.1 and up  \n",
       "freq             8714    842             326                1459        2451  "
      ]
     },
     "execution_count": 30,
     "metadata": {},
     "output_type": "execute_result"
    }
   ],
   "source": [
    "df.describe(include='object')"
   ]
  },
  {
   "cell_type": "markdown",
   "metadata": {},
   "source": [
    "# Data Transformation"
   ]
  },
  {
   "cell_type": "markdown",
   "metadata": {},
   "source": [
    "### Data Type"
   ]
  },
  {
   "cell_type": "markdown",
   "metadata": {},
   "source": [
    "According to the attributes of the dataset, some numeric columns are available as an object type in the initial state. So, data transformation is necessary to analyze the dataset with all numeric and categorical features. Columns will be converted to numeric values in the following section;\n",
    "* Reviews\n",
    "* Size"
   ]
  },
  {
   "cell_type": "code",
   "execution_count": 31,
   "metadata": {},
   "outputs": [],
   "source": [
    "# Reviews\n",
    "# review column includes '3.0M'\n",
    "\n",
    "df.loc[df['Reviews'] == '3.0M', 'Reviews'] = 3000000\n",
    "\n",
    "# change Reviews column type to numeric value\n",
    "\n",
    "df['Reviews'] = df['Reviews'].astype('Float64')"
   ]
  },
  {
   "cell_type": "code",
   "execution_count": 32,
   "metadata": {},
   "outputs": [],
   "source": [
    "# Size\n",
    "# convert size column\n",
    "\n",
    "df.loc[df['Size']=='Varies with device', 'Size'] = '11M' # convert to the most common size\n",
    "df.loc[df['Size']=='1,000+', 'Size'] = '11M' # convert to the most common size\n",
    "\n",
    "# convert all MB values to KB\n",
    "# convert all values to KB\n",
    "\n",
    "for index, row in df.iterrows():\n",
    "    # Access the value in the 'Reviews' column for the current row\n",
    "    review_value = row['Size']\n",
    "\n",
    "    # Check if the value contains 'M' (MB) and convert it to a numeric value\n",
    "    if 'M' in review_value:\n",
    "        numeric_value = float(review_value.replace('M', '')) * 1024\n",
    "        df.at[index, 'Size'] = numeric_value\n",
    "    elif 'k' in review_value:\n",
    "        numeric_value = float(review_value.replace('k', ''))\n",
    "        df.at[index, 'Size'] = numeric_value\n",
    "    else: \n",
    "        print(review_value)\n",
    "\n",
    "# change Size column type to float\n",
    "\n",
    "df['Size'] = df['Size'].astype('Float64')"
   ]
  },
  {
   "cell_type": "code",
   "execution_count": 33,
   "metadata": {},
   "outputs": [],
   "source": [
    "# Installs\n",
    "\n",
    "for index, row in df.iterrows():\n",
    "    # Access the value in the 'Installs' column for the current row\n",
    "    review_value = row['Installs']\n",
    "\n",
    "    # Check if the value contains '+' and ',' and convert it to a numeric value\n",
    "    if '+' in review_value:\n",
    "        numeric_value = float(review_value.replace('+', '').replace(',', ''))\n",
    "        df.at[index, 'Installs'] = numeric_value\n",
    "    else: \n",
    "        df.at[index, 'Installs'] = 0\n",
    "\n",
    "df['Installs'] = df['Installs'].astype('Float64')"
   ]
  },
  {
   "cell_type": "code",
   "execution_count": 34,
   "metadata": {},
   "outputs": [],
   "source": [
    "# Price \n",
    "\n",
    "for index, row in df.iterrows():\n",
    "    # Access the value in the 'Price' column for the current row\n",
    "    review_value = row['Price']\n",
    "\n",
    "    # Check if the value contains '$' and ',' and convert it to a numeric value\n",
    "    if '$' in review_value:\n",
    "        numeric_value = float(review_value.replace('$', ''))\n",
    "        df.at[index, 'Price'] = numeric_value\n",
    "    else: \n",
    "        df.at[index, 'Price'] = 0\n",
    "\n",
    "df['Price'] = df['Price'].astype('Float64')"
   ]
  },
  {
   "cell_type": "code",
   "execution_count": 35,
   "metadata": {},
   "outputs": [],
   "source": [
    "# convert '0' to categoric value\n",
    "\n",
    "df.loc[df['Type']=='0', 'Type'] = 'Free'"
   ]
  },
  {
   "cell_type": "code",
   "execution_count": 36,
   "metadata": {},
   "outputs": [],
   "source": [
    "# convert 'Date' column to datetime type with error handling\n",
    "# convert cell with errors to NaN\n",
    "\n",
    "df['Last Updated'] = pd.to_datetime(df['Last Updated'], errors='coerce')"
   ]
  },
  {
   "cell_type": "markdown",
   "metadata": {},
   "source": [
    "After conversions, the description of the numeric and categorical variables can be checked again to see the current version."
   ]
  },
  {
   "cell_type": "code",
   "execution_count": 37,
   "metadata": {},
   "outputs": [
    {
     "data": {
      "text/html": [
       "<div>\n",
       "<style scoped>\n",
       "    .dataframe tbody tr th:only-of-type {\n",
       "        vertical-align: middle;\n",
       "    }\n",
       "\n",
       "    .dataframe tbody tr th {\n",
       "        vertical-align: top;\n",
       "    }\n",
       "\n",
       "    .dataframe thead th {\n",
       "        text-align: right;\n",
       "    }\n",
       "</style>\n",
       "<table border=\"1\" class=\"dataframe\">\n",
       "  <thead>\n",
       "    <tr style=\"text-align: right;\">\n",
       "      <th></th>\n",
       "      <th>Rating</th>\n",
       "      <th>Reviews</th>\n",
       "      <th>Size</th>\n",
       "      <th>Installs</th>\n",
       "      <th>Price</th>\n",
       "    </tr>\n",
       "  </thead>\n",
       "  <tbody>\n",
       "    <tr>\n",
       "      <th>count</th>\n",
       "      <td>9367.000000</td>\n",
       "      <td>10841.0</td>\n",
       "      <td>10841.0</td>\n",
       "      <td>10841.0</td>\n",
       "      <td>10841.0</td>\n",
       "    </tr>\n",
       "    <tr>\n",
       "      <th>mean</th>\n",
       "      <td>4.193338</td>\n",
       "      <td>444388.653537</td>\n",
       "      <td>20347.887178</td>\n",
       "      <td>15462912.41463</td>\n",
       "      <td>1.027273</td>\n",
       "    </tr>\n",
       "    <tr>\n",
       "      <th>std</th>\n",
       "      <td>0.537431</td>\n",
       "      <td>2927728.464012</td>\n",
       "      <td>21601.967928</td>\n",
       "      <td>85025569.008648</td>\n",
       "      <td>15.948971</td>\n",
       "    </tr>\n",
       "    <tr>\n",
       "      <th>min</th>\n",
       "      <td>1.000000</td>\n",
       "      <td>0.0</td>\n",
       "      <td>8.5</td>\n",
       "      <td>0.0</td>\n",
       "      <td>0.0</td>\n",
       "    </tr>\n",
       "    <tr>\n",
       "      <th>25%</th>\n",
       "      <td>4.000000</td>\n",
       "      <td>38.0</td>\n",
       "      <td>6041.6</td>\n",
       "      <td>1000.0</td>\n",
       "      <td>0.0</td>\n",
       "    </tr>\n",
       "    <tr>\n",
       "      <th>50%</th>\n",
       "      <td>4.300000</td>\n",
       "      <td>2094.0</td>\n",
       "      <td>11264.0</td>\n",
       "      <td>100000.0</td>\n",
       "      <td>0.0</td>\n",
       "    </tr>\n",
       "    <tr>\n",
       "      <th>75%</th>\n",
       "      <td>4.500000</td>\n",
       "      <td>54798.0</td>\n",
       "      <td>26624.0</td>\n",
       "      <td>5000000.0</td>\n",
       "      <td>0.0</td>\n",
       "    </tr>\n",
       "    <tr>\n",
       "      <th>max</th>\n",
       "      <td>19.000000</td>\n",
       "      <td>78158306.0</td>\n",
       "      <td>102400.0</td>\n",
       "      <td>1000000000.0</td>\n",
       "      <td>400.0</td>\n",
       "    </tr>\n",
       "  </tbody>\n",
       "</table>\n",
       "</div>"
      ],
      "text/plain": [
       "            Rating         Reviews          Size         Installs      Price\n",
       "count  9367.000000         10841.0       10841.0          10841.0    10841.0\n",
       "mean      4.193338   444388.653537  20347.887178   15462912.41463   1.027273\n",
       "std       0.537431  2927728.464012  21601.967928  85025569.008648  15.948971\n",
       "min       1.000000             0.0           8.5              0.0        0.0\n",
       "25%       4.000000            38.0        6041.6           1000.0        0.0\n",
       "50%       4.300000          2094.0       11264.0         100000.0        0.0\n",
       "75%       4.500000         54798.0       26624.0        5000000.0        0.0\n",
       "max      19.000000      78158306.0      102400.0     1000000000.0      400.0"
      ]
     },
     "execution_count": 37,
     "metadata": {},
     "output_type": "execute_result"
    }
   ],
   "source": [
    "df.describe()"
   ]
  },
  {
   "cell_type": "code",
   "execution_count": 38,
   "metadata": {},
   "outputs": [
    {
     "data": {
      "text/html": [
       "<div>\n",
       "<style scoped>\n",
       "    .dataframe tbody tr th:only-of-type {\n",
       "        vertical-align: middle;\n",
       "    }\n",
       "\n",
       "    .dataframe tbody tr th {\n",
       "        vertical-align: top;\n",
       "    }\n",
       "\n",
       "    .dataframe thead th {\n",
       "        text-align: right;\n",
       "    }\n",
       "</style>\n",
       "<table border=\"1\" class=\"dataframe\">\n",
       "  <thead>\n",
       "    <tr style=\"text-align: right;\">\n",
       "      <th></th>\n",
       "      <th>App</th>\n",
       "      <th>Category</th>\n",
       "      <th>Type</th>\n",
       "      <th>Content Rating</th>\n",
       "      <th>Genres</th>\n",
       "      <th>Current Ver</th>\n",
       "      <th>Android Ver</th>\n",
       "    </tr>\n",
       "  </thead>\n",
       "  <tbody>\n",
       "    <tr>\n",
       "      <th>count</th>\n",
       "      <td>10841</td>\n",
       "      <td>10841</td>\n",
       "      <td>10840</td>\n",
       "      <td>10840</td>\n",
       "      <td>10841</td>\n",
       "      <td>10833</td>\n",
       "      <td>10838</td>\n",
       "    </tr>\n",
       "    <tr>\n",
       "      <th>unique</th>\n",
       "      <td>9660</td>\n",
       "      <td>34</td>\n",
       "      <td>2</td>\n",
       "      <td>6</td>\n",
       "      <td>120</td>\n",
       "      <td>2832</td>\n",
       "      <td>33</td>\n",
       "    </tr>\n",
       "    <tr>\n",
       "      <th>top</th>\n",
       "      <td>ROBLOX</td>\n",
       "      <td>FAMILY</td>\n",
       "      <td>Free</td>\n",
       "      <td>Everyone</td>\n",
       "      <td>Tools</td>\n",
       "      <td>Varies with device</td>\n",
       "      <td>4.1 and up</td>\n",
       "    </tr>\n",
       "    <tr>\n",
       "      <th>freq</th>\n",
       "      <td>9</td>\n",
       "      <td>1972</td>\n",
       "      <td>10040</td>\n",
       "      <td>8714</td>\n",
       "      <td>842</td>\n",
       "      <td>1459</td>\n",
       "      <td>2451</td>\n",
       "    </tr>\n",
       "  </tbody>\n",
       "</table>\n",
       "</div>"
      ],
      "text/plain": [
       "           App Category   Type Content Rating Genres         Current Ver  \\\n",
       "count    10841    10841  10840          10840  10841               10833   \n",
       "unique    9660       34      2              6    120                2832   \n",
       "top     ROBLOX   FAMILY   Free       Everyone  Tools  Varies with device   \n",
       "freq         9     1972  10040           8714    842                1459   \n",
       "\n",
       "       Android Ver  \n",
       "count        10838  \n",
       "unique          33  \n",
       "top     4.1 and up  \n",
       "freq          2451  "
      ]
     },
     "execution_count": 38,
     "metadata": {},
     "output_type": "execute_result"
    }
   ],
   "source": [
    "df.describe(include='object')"
   ]
  },
  {
   "cell_type": "markdown",
   "metadata": {},
   "source": [
    "### Missing Values"
   ]
  },
  {
   "cell_type": "code",
   "execution_count": 39,
   "metadata": {},
   "outputs": [
    {
     "name": "stdout",
     "output_type": "stream",
     "text": [
      "<class 'pandas.core.frame.DataFrame'>\n",
      "RangeIndex: 10841 entries, 0 to 10840\n",
      "Data columns (total 13 columns):\n",
      " #   Column          Non-Null Count  Dtype         \n",
      "---  ------          --------------  -----         \n",
      " 0   App             10841 non-null  object        \n",
      " 1   Category        10841 non-null  object        \n",
      " 2   Rating          9367 non-null   float64       \n",
      " 3   Reviews         10841 non-null  Float64       \n",
      " 4   Size            10841 non-null  Float64       \n",
      " 5   Installs        10841 non-null  Float64       \n",
      " 6   Type            10840 non-null  object        \n",
      " 7   Price           10841 non-null  Float64       \n",
      " 8   Content Rating  10840 non-null  object        \n",
      " 9   Genres          10841 non-null  object        \n",
      " 10  Last Updated    10840 non-null  datetime64[ns]\n",
      " 11  Current Ver     10833 non-null  object        \n",
      " 12  Android Ver     10838 non-null  object        \n",
      "dtypes: Float64(4), datetime64[ns](1), float64(1), object(7)\n",
      "memory usage: 1.1+ MB\n"
     ]
    }
   ],
   "source": [
    "df.info()"
   ]
  },
  {
   "cell_type": "code",
   "execution_count": 40,
   "metadata": {},
   "outputs": [
    {
     "name": "stdout",
     "output_type": "stream",
     "text": [
      "Column App:  0\n",
      "Column Category:  0\n",
      "Column Rating:  1474\n",
      "Column Reviews:  0\n",
      "Column Size:  0\n",
      "Column Installs:  0\n",
      "Column Type:  1\n",
      "Column Price:  0\n",
      "Column Content Rating:  1\n",
      "Column Genres:  0\n",
      "Column Last Updated:  1\n",
      "Column Current Ver:  8\n",
      "Column Android Ver:  3\n"
     ]
    }
   ],
   "source": [
    "# count missing values in a column\n",
    "\n",
    "for col_name in df.columns:\n",
    "    count_nan = df[col_name].isna().sum()\n",
    "    print ('Column ' + col_name + \": \", count_nan)"
   ]
  },
  {
   "cell_type": "markdown",
   "metadata": {},
   "source": [
    "As you can see above, some numeric and categorical columns include Null values. To deal with Null values;\n",
    "1. These rows can be removed from the dataset\n",
    "2. These Null cells can be filled with values belonging to the columns\n",
    "\n",
    "Generally although removing the rows is preferred, sometimes there can be lots of Null cells inside the data set, and removing one row can cause to loss of other information through other columns. So, for this study filling the missing values with the proper descriptive values of columns is preferred. \n",
    "\n",
    "* For the Review column, missing cells will be filled with the mean of all rating\n",
    "* For the Type column, one missing cell will be filled with the most frequent type.\n",
    "* For the Content Rating column, one missing cell will be filled with the most frequent type.\n",
    "\n",
    "Other columns with missing values (Last Updated, Current Ver, Android Ver) will be dealt with in case of need."
   ]
  },
  {
   "cell_type": "code",
   "execution_count": 41,
   "metadata": {},
   "outputs": [],
   "source": [
    "# fill with mean of rating\n",
    "\n",
    "df['Rating'] = np.where((df['Rating'].isnull()), df['Rating'].mean(), df['Rating'])\n",
    "\n",
    "# fill with frequent values\n",
    "\n",
    "df['Type'] = np.where((df['Type'].isnull()), 'Free', df['Type'])\n",
    "df['Content Rating'] = np.where((df['Content Rating'].isnull()), 'Everyone', df['Content Rating'])"
   ]
  },
  {
   "cell_type": "markdown",
   "metadata": {},
   "source": [
    "On the other hand, if you want to decide to drop the columns which have more than the determined threshold missing value rate. You can remove it by running the following code."
   ]
  },
  {
   "cell_type": "code",
   "execution_count": 42,
   "metadata": {},
   "outputs": [],
   "source": [
    "# drop the columns which have more than %50 missing value rate\n",
    "\n",
    "for col_name in df.columns:\n",
    "    perc_nan = df[col_name].isna().sum()/len(df)*100\n",
    "    if perc_nan >= 50:\n",
    "        print(col_name)\n",
    "        df.drop(columns={col_name}, inplace=True)"
   ]
  },
  {
   "cell_type": "markdown",
   "metadata": {},
   "source": [
    "If you want to sort the dataframe relative to one column;"
   ]
  },
  {
   "cell_type": "code",
   "execution_count": 45,
   "metadata": {},
   "outputs": [
    {
     "data": {
      "text/html": [
       "<div>\n",
       "<style scoped>\n",
       "    .dataframe tbody tr th:only-of-type {\n",
       "        vertical-align: middle;\n",
       "    }\n",
       "\n",
       "    .dataframe tbody tr th {\n",
       "        vertical-align: top;\n",
       "    }\n",
       "\n",
       "    .dataframe thead th {\n",
       "        text-align: right;\n",
       "    }\n",
       "</style>\n",
       "<table border=\"1\" class=\"dataframe\">\n",
       "  <thead>\n",
       "    <tr style=\"text-align: right;\">\n",
       "      <th></th>\n",
       "      <th>App</th>\n",
       "      <th>Category</th>\n",
       "      <th>Rating</th>\n",
       "      <th>Reviews</th>\n",
       "      <th>Size</th>\n",
       "      <th>Installs</th>\n",
       "      <th>Type</th>\n",
       "      <th>Price</th>\n",
       "      <th>Content Rating</th>\n",
       "      <th>Genres</th>\n",
       "      <th>Last Updated</th>\n",
       "      <th>Current Ver</th>\n",
       "      <th>Android Ver</th>\n",
       "    </tr>\n",
       "  </thead>\n",
       "  <tbody>\n",
       "    <tr>\n",
       "      <th>3896</th>\n",
       "      <td>Subway Surfers</td>\n",
       "      <td>GAME</td>\n",
       "      <td>4.5</td>\n",
       "      <td>27711703.0</td>\n",
       "      <td>77824.0</td>\n",
       "      <td>1000000000.0</td>\n",
       "      <td>Free</td>\n",
       "      <td>0.0</td>\n",
       "      <td>Everyone 10+</td>\n",
       "      <td>Arcade</td>\n",
       "      <td>2018-07-12</td>\n",
       "      <td>1.90.0</td>\n",
       "      <td>4.1 and up</td>\n",
       "    </tr>\n",
       "    <tr>\n",
       "      <th>3943</th>\n",
       "      <td>Facebook</td>\n",
       "      <td>SOCIAL</td>\n",
       "      <td>4.1</td>\n",
       "      <td>78128208.0</td>\n",
       "      <td>11264.0</td>\n",
       "      <td>1000000000.0</td>\n",
       "      <td>Free</td>\n",
       "      <td>0.0</td>\n",
       "      <td>Teen</td>\n",
       "      <td>Social</td>\n",
       "      <td>2018-08-03</td>\n",
       "      <td>Varies with device</td>\n",
       "      <td>Varies with device</td>\n",
       "    </tr>\n",
       "    <tr>\n",
       "      <th>335</th>\n",
       "      <td>Messenger – Text and Video Chat for Free</td>\n",
       "      <td>COMMUNICATION</td>\n",
       "      <td>4.0</td>\n",
       "      <td>56642847.0</td>\n",
       "      <td>11264.0</td>\n",
       "      <td>1000000000.0</td>\n",
       "      <td>Free</td>\n",
       "      <td>0.0</td>\n",
       "      <td>Everyone</td>\n",
       "      <td>Communication</td>\n",
       "      <td>2018-08-01</td>\n",
       "      <td>Varies with device</td>\n",
       "      <td>Varies with device</td>\n",
       "    </tr>\n",
       "    <tr>\n",
       "      <th>3523</th>\n",
       "      <td>Google Drive</td>\n",
       "      <td>PRODUCTIVITY</td>\n",
       "      <td>4.4</td>\n",
       "      <td>2731211.0</td>\n",
       "      <td>11264.0</td>\n",
       "      <td>1000000000.0</td>\n",
       "      <td>Free</td>\n",
       "      <td>0.0</td>\n",
       "      <td>Everyone</td>\n",
       "      <td>Productivity</td>\n",
       "      <td>2018-08-06</td>\n",
       "      <td>Varies with device</td>\n",
       "      <td>Varies with device</td>\n",
       "    </tr>\n",
       "    <tr>\n",
       "      <th>3565</th>\n",
       "      <td>Google Drive</td>\n",
       "      <td>PRODUCTIVITY</td>\n",
       "      <td>4.4</td>\n",
       "      <td>2731211.0</td>\n",
       "      <td>11264.0</td>\n",
       "      <td>1000000000.0</td>\n",
       "      <td>Free</td>\n",
       "      <td>0.0</td>\n",
       "      <td>Everyone</td>\n",
       "      <td>Productivity</td>\n",
       "      <td>2018-08-06</td>\n",
       "      <td>Varies with device</td>\n",
       "      <td>Varies with device</td>\n",
       "    </tr>\n",
       "  </tbody>\n",
       "</table>\n",
       "</div>"
      ],
      "text/plain": [
       "                                           App       Category  Rating  \\\n",
       "3896                            Subway Surfers           GAME     4.5   \n",
       "3943                                  Facebook         SOCIAL     4.1   \n",
       "335   Messenger – Text and Video Chat for Free  COMMUNICATION     4.0   \n",
       "3523                              Google Drive   PRODUCTIVITY     4.4   \n",
       "3565                              Google Drive   PRODUCTIVITY     4.4   \n",
       "\n",
       "         Reviews     Size      Installs  Type  Price Content Rating  \\\n",
       "3896  27711703.0  77824.0  1000000000.0  Free    0.0   Everyone 10+   \n",
       "3943  78128208.0  11264.0  1000000000.0  Free    0.0           Teen   \n",
       "335   56642847.0  11264.0  1000000000.0  Free    0.0       Everyone   \n",
       "3523   2731211.0  11264.0  1000000000.0  Free    0.0       Everyone   \n",
       "3565   2731211.0  11264.0  1000000000.0  Free    0.0       Everyone   \n",
       "\n",
       "             Genres Last Updated         Current Ver         Android Ver  \n",
       "3896         Arcade   2018-07-12              1.90.0          4.1 and up  \n",
       "3943         Social   2018-08-03  Varies with device  Varies with device  \n",
       "335   Communication   2018-08-01  Varies with device  Varies with device  \n",
       "3523   Productivity   2018-08-06  Varies with device  Varies with device  \n",
       "3565   Productivity   2018-08-06  Varies with device  Varies with device  "
      ]
     },
     "execution_count": 45,
     "metadata": {},
     "output_type": "execute_result"
    }
   ],
   "source": [
    "df_sorted = df.sort_values('Installs', ascending = False)\n",
    "df_sorted.head()"
   ]
  },
  {
   "cell_type": "markdown",
   "metadata": {},
   "source": [
    "Also, one outlier is detected in the Rating column. The rating values should be between 0 and 5."
   ]
  },
  {
   "cell_type": "code",
   "execution_count": 46,
   "metadata": {},
   "outputs": [
    {
     "data": {
      "text/html": [
       "<div>\n",
       "<style scoped>\n",
       "    .dataframe tbody tr th:only-of-type {\n",
       "        vertical-align: middle;\n",
       "    }\n",
       "\n",
       "    .dataframe tbody tr th {\n",
       "        vertical-align: top;\n",
       "    }\n",
       "\n",
       "    .dataframe thead th {\n",
       "        text-align: right;\n",
       "    }\n",
       "</style>\n",
       "<table border=\"1\" class=\"dataframe\">\n",
       "  <thead>\n",
       "    <tr style=\"text-align: right;\">\n",
       "      <th></th>\n",
       "      <th>App</th>\n",
       "      <th>Category</th>\n",
       "      <th>Rating</th>\n",
       "      <th>Reviews</th>\n",
       "      <th>Size</th>\n",
       "      <th>Installs</th>\n",
       "      <th>Type</th>\n",
       "      <th>Price</th>\n",
       "      <th>Content Rating</th>\n",
       "      <th>Genres</th>\n",
       "      <th>Last Updated</th>\n",
       "      <th>Current Ver</th>\n",
       "      <th>Android Ver</th>\n",
       "    </tr>\n",
       "  </thead>\n",
       "  <tbody>\n",
       "    <tr>\n",
       "      <th>10472</th>\n",
       "      <td>Life Made WI-Fi Touchscreen Photo Frame</td>\n",
       "      <td>1.9</td>\n",
       "      <td>19.0</td>\n",
       "      <td>3000000.0</td>\n",
       "      <td>11264.0</td>\n",
       "      <td>0.0</td>\n",
       "      <td>Free</td>\n",
       "      <td>0.0</td>\n",
       "      <td>Everyone</td>\n",
       "      <td>February 11, 2018</td>\n",
       "      <td>NaT</td>\n",
       "      <td>4.0 and up</td>\n",
       "      <td>NaN</td>\n",
       "    </tr>\n",
       "  </tbody>\n",
       "</table>\n",
       "</div>"
      ],
      "text/plain": [
       "                                           App Category  Rating    Reviews  \\\n",
       "10472  Life Made WI-Fi Touchscreen Photo Frame      1.9    19.0  3000000.0   \n",
       "\n",
       "          Size  Installs  Type  Price Content Rating             Genres  \\\n",
       "10472  11264.0       0.0  Free    0.0       Everyone  February 11, 2018   \n",
       "\n",
       "      Last Updated Current Ver Android Ver  \n",
       "10472          NaT  4.0 and up         NaN  "
      ]
     },
     "execution_count": 46,
     "metadata": {},
     "output_type": "execute_result"
    }
   ],
   "source": [
    "df[df['Rating']>5]"
   ]
  },
  {
   "cell_type": "markdown",
   "metadata": {},
   "source": [
    "So, this value is removed from dataset."
   ]
  },
  {
   "cell_type": "code",
   "execution_count": 47,
   "metadata": {},
   "outputs": [],
   "source": [
    "df = df[df['Rating']<=5]"
   ]
  },
  {
   "cell_type": "code",
   "execution_count": 48,
   "metadata": {},
   "outputs": [],
   "source": [
    "# save transformed dataset\n",
    "\n",
    "df.to_csv('dataset/transformed-googleplaystore.csv', index=False)"
   ]
  }
 ],
 "metadata": {
  "kernelspec": {
   "display_name": "Python 3",
   "language": "python",
   "name": "python3"
  },
  "language_info": {
   "codemirror_mode": {
    "name": "ipython",
    "version": 3
   },
   "file_extension": ".py",
   "mimetype": "text/x-python",
   "name": "python",
   "nbconvert_exporter": "python",
   "pygments_lexer": "ipython3",
   "version": "3.11.2"
  },
  "orig_nbformat": 4
 },
 "nbformat": 4,
 "nbformat_minor": 2
}
